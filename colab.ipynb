{
  "nbformat": 4,
  "nbformat_minor": 0,
  "metadata": {
    "colab": {
      "provenance": []
    },
    "kernelspec": {
      "name": "python3",
      "display_name": "Python 3"
    },
    "language_info": {
      "name": "python"
    },
    "accelerator": "GPU",
    "gpuClass": "standard"
  },
  "cells": [
    {
      "cell_type": "code",
      "execution_count": 1,
      "metadata": {
        "colab": {
          "base_uri": "https://localhost:8080/"
        },
        "id": "NRILD8MQjhiS",
        "outputId": "851ce441-7743-4249-a11e-7cd94892ed60"
      },
      "outputs": [
        {
          "output_type": "stream",
          "name": "stdout",
          "text": [
            "Cloning into 'deep-learning-project'...\n",
            "remote: Enumerating objects: 835, done.\u001b[K\n",
            "remote: Counting objects: 100% (233/233), done.\u001b[K\n",
            "remote: Compressing objects: 100% (217/217), done.\u001b[K\n",
            "remote: Total 835 (delta 31), reused 182 (delta 16), pack-reused 602\u001b[K\n",
            "Receiving objects: 100% (835/835), 827.94 MiB | 36.15 MiB/s, done.\n",
            "Resolving deltas: 100% (66/66), done.\n",
            "Updating files: 100% (709/709), done.\n"
          ]
        }
      ],
      "source": [
        "!git clone https://github.com/pwu-dev/deep-learning-project.git"
      ]
    },
    {
      "cell_type": "markdown",
      "source": [
        "Fonction de chargement des images"
      ],
      "metadata": {
        "id": "iYPgVIock81P"
      }
    },
    {
      "cell_type": "code",
      "source": [
        "import os\n",
        "import PIL\n",
        "from PIL import Image\n",
        "import numpy as np\n",
        "\n",
        "def load_data(data_path, classes, image_size=64):\n",
        "\n",
        "\tnum_images = 0\n",
        "\tfor i in range(len(classes)):\n",
        "\t\tdirs = sorted(os.listdir(data_path + '/' + classes[i]))\n",
        "\t\tnum_images += len(dirs)\n",
        "                                \n",
        "\tx = np.zeros((num_images, image_size, image_size, 3))\n",
        "\ty = np.zeros((num_images, 1))\n",
        "    \n",
        "\tcurrent_index = 0\n",
        "    \n",
        "    # Parcours des différents répertoires pour collecter les images\n",
        "\tfor idx_class in range(len(classes)):\n",
        "\t\tdirs = sorted(os.listdir(data_path + '/' + classes[idx_class]))\n",
        "\t\tnum_images += len(dirs)\n",
        "    \n",
        "        # Chargement des images, \n",
        "\t\tfor idx_img in range(len(dirs)):\n",
        "\t\t\titem = dirs[idx_img]\n",
        "\t\t\tif os.path.isfile(data_path + '/' + classes[idx_class] + '/' + item):\n",
        "                # Ouverture de l'image\n",
        "\t\t\t\timg = Image.open(data_path + '/' + classes[idx_class] + '/' + item)\n",
        "                # Conversion de l'image en RGB\n",
        "\t\t\t\timg = img.convert('RGB')\n",
        "\n",
        "                # Change la taille de l'image de telle façon à ce qu'elle soit un carré en remplissant les pixels manquant par du blanc\n",
        "\t\t\t\tx_size, y_size = img.size\n",
        "\t\t\t\tsize = max(x_size, y_size)\n",
        "\t\t\t\tnew_im = Image.new('RGB', (size, size), (255, 255, 255))\n",
        "\t\t\t\tnew_im.paste(img, (int((size - x_size) / 2), int((size - y_size) / 2)))\n",
        "\n",
        "                # Redimensionnement de l'image et écriture dans la variable de retour x \n",
        "\t\t\t\timg = new_im.resize((image_size,image_size))\n",
        "\t\t\t\tx[current_index] = np.asarray(img)\n",
        "                # Écriture du label associé dans la variable de retour y\n",
        "\t\t\t\ty[current_index] = idx_class\n",
        "\t\t\t\tcurrent_index += 1\n",
        "\n",
        "\treturn x, y"
      ],
      "metadata": {
        "id": "dwOL20EZkW_s"
      },
      "execution_count": 5,
      "outputs": []
    },
    {
      "cell_type": "markdown",
      "source": [
        "Variables utiles"
      ],
      "metadata": {
        "id": "3raCMn2klNyv"
      }
    },
    {
      "cell_type": "code",
      "source": [
        "path = \"./deep-learning-project/dataset/\"\n",
        "CLASSES = [\"beurre\", \"cremes-dessert\", \"eaux\", \"fromages\", \"haricots-verts\", \n",
        "           \"huiles-cuisson\", \"jus-fruits\", \"lait\", \"mais\", \"oeufs\", \n",
        "           \"pates\", \"petits-pois\", \"poissons\", \"riz\", \"sodas\", \n",
        "           \"soupes\", \"viandes-rouges\", \"volailles\", \"yaourts-laitiers\"]\n",
        "\n",
        "CLASSES = [\"poissons\", \"sodas\", \"viandes-rouges\"]\n",
        "IMAGE_SIZE = 128"
      ],
      "metadata": {
        "id": "ZtK5OWB4lSUf"
      },
      "execution_count": 47,
      "outputs": []
    },
    {
      "cell_type": "markdown",
      "source": [
        "Chargement des images"
      ],
      "metadata": {
        "id": "oYhr6W1Ylj0T"
      }
    },
    {
      "cell_type": "code",
      "source": [
        "x_total, y_total = load_data(path, CLASSES, image_size=IMAGE_SIZE)\n",
        "\n",
        "percent = int(len(y_total)/100)\n",
        "\n",
        "x_training, x_validation, x_test = x_total[:90*percent,:], x_total[90*percent:,:], x_total[90*percent:,:]\n",
        "y_training, y_validation, y_test = y_total[:90*percent,:], y_total[90*percent:,:], y_total[90*percent:,:]"
      ],
      "metadata": {
        "id": "7ZquVJnDllZG"
      },
      "execution_count": 48,
      "outputs": []
    },
    {
      "cell_type": "markdown",
      "source": [
        "Création du model"
      ],
      "metadata": {
        "id": "3RoxWufnmqwn"
      }
    },
    {
      "cell_type": "code",
      "source": [
        "import tensorflow as tf\n",
        "from tensorflow.keras.models import Sequential\n",
        "from tensorflow.keras.layers import Conv2D, MaxPooling2D, Flatten, Dense\n",
        "\n",
        "model = Sequential()\n",
        "model.add(Conv2D(32, 3, activation=\"relu\"))\n",
        "model.add(MaxPooling2D())\n",
        "model.add(Conv2D(64, 3, activation=\"relu\"))\n",
        "model.add(MaxPooling2D())\n",
        "model.add(Conv2D(96, 3, activation=\"relu\"))\n",
        "model.add(MaxPooling2D())\n",
        "model.add(Conv2D(128, 3, activation=\"relu\"))\n",
        "model.add(MaxPooling2D())\n",
        "model.add(Flatten())\n",
        "model.add(Dense(512, activation=\"relu\"))\n",
        "model.add(Dense(len(CLASSES), activation=\"softmax\"))\n",
        "\n",
        "model.build((None, IMAGE_SIZE, IMAGE_SIZE, 3))\n",
        "model.summary()\n",
        "\n",
        "model.compile(loss=\"sparse_categorical_crossentropy\",\n",
        "              optimizer=tf.keras.optimizers.Adam(learning_rate=3e-4),\n",
        "              metrics=['accuracy'])"
      ],
      "metadata": {
        "colab": {
          "base_uri": "https://localhost:8080/"
        },
        "id": "5Kz4F77PmtNU",
        "outputId": "03aec6e8-284b-4e1f-d183-79bae3d50951"
      },
      "execution_count": 33,
      "outputs": [
        {
          "output_type": "stream",
          "name": "stdout",
          "text": [
            "Model: \"sequential_6\"\n",
            "_________________________________________________________________\n",
            " Layer (type)                Output Shape              Param #   \n",
            "=================================================================\n",
            " conv2d_24 (Conv2D)          (None, 62, 62, 32)        896       \n",
            "                                                                 \n",
            " max_pooling2d_24 (MaxPoolin  (None, 31, 31, 32)       0         \n",
            " g2D)                                                            \n",
            "                                                                 \n",
            " conv2d_25 (Conv2D)          (None, 29, 29, 64)        18496     \n",
            "                                                                 \n",
            " max_pooling2d_25 (MaxPoolin  (None, 14, 14, 64)       0         \n",
            " g2D)                                                            \n",
            "                                                                 \n",
            " conv2d_26 (Conv2D)          (None, 12, 12, 96)        55392     \n",
            "                                                                 \n",
            " max_pooling2d_26 (MaxPoolin  (None, 6, 6, 96)         0         \n",
            " g2D)                                                            \n",
            "                                                                 \n",
            " conv2d_27 (Conv2D)          (None, 4, 4, 128)         110720    \n",
            "                                                                 \n",
            " max_pooling2d_27 (MaxPoolin  (None, 2, 2, 128)        0         \n",
            " g2D)                                                            \n",
            "                                                                 \n",
            " flatten_6 (Flatten)         (None, 512)               0         \n",
            "                                                                 \n",
            " dense_12 (Dense)            (None, 512)               262656    \n",
            "                                                                 \n",
            " dense_13 (Dense)            (None, 7)                 3591      \n",
            "                                                                 \n",
            "=================================================================\n",
            "Total params: 451,751\n",
            "Trainable params: 451,751\n",
            "Non-trainable params: 0\n",
            "_________________________________________________________________\n"
          ]
        }
      ]
    },
    {
      "cell_type": "markdown",
      "source": [
        "Entrainement du réseau"
      ],
      "metadata": {
        "id": "w9_2RHS6nqs7"
      }
    },
    {
      "cell_type": "code",
      "source": [
        "history = model.fit(x_training, y_training, validation_data=(x_validation, y_validation), epochs=10, batch_size=10)"
      ],
      "metadata": {
        "colab": {
          "base_uri": "https://localhost:8080/"
        },
        "id": "eTqSemdqnshD",
        "outputId": "5135cfe6-7f26-4202-ff57-3c9d4c7bf0a2"
      },
      "execution_count": 34,
      "outputs": [
        {
          "output_type": "stream",
          "name": "stdout",
          "text": [
            "Epoch 1/10\n",
            "27/27 [==============================] - 3s 21ms/step - loss: 10.7158 - accuracy: 0.2630 - val_loss: 8.8601 - val_accuracy: 0.0676\n",
            "Epoch 2/10\n",
            "27/27 [==============================] - 0s 10ms/step - loss: 1.5247 - accuracy: 0.4667 - val_loss: 8.5424 - val_accuracy: 0.0541\n",
            "Epoch 3/10\n",
            "27/27 [==============================] - 0s 10ms/step - loss: 0.8694 - accuracy: 0.6556 - val_loss: 8.8045 - val_accuracy: 0.2162\n",
            "Epoch 4/10\n",
            "27/27 [==============================] - 0s 9ms/step - loss: 0.6956 - accuracy: 0.7519 - val_loss: 8.7583 - val_accuracy: 0.0405\n",
            "Epoch 5/10\n",
            "27/27 [==============================] - 0s 9ms/step - loss: 0.5151 - accuracy: 0.8296 - val_loss: 8.1567 - val_accuracy: 0.0811\n",
            "Epoch 6/10\n",
            "27/27 [==============================] - 0s 7ms/step - loss: 0.4257 - accuracy: 0.8444 - val_loss: 7.6208 - val_accuracy: 0.1757\n",
            "Epoch 7/10\n",
            "27/27 [==============================] - 0s 6ms/step - loss: 0.3386 - accuracy: 0.8852 - val_loss: 9.0373 - val_accuracy: 0.1486\n",
            "Epoch 8/10\n",
            "27/27 [==============================] - 0s 6ms/step - loss: 0.3353 - accuracy: 0.8704 - val_loss: 8.6255 - val_accuracy: 0.0270\n",
            "Epoch 9/10\n",
            "27/27 [==============================] - 0s 6ms/step - loss: 0.2423 - accuracy: 0.9148 - val_loss: 8.7807 - val_accuracy: 0.1351\n",
            "Epoch 10/10\n",
            "27/27 [==============================] - 0s 6ms/step - loss: 0.1487 - accuracy: 0.9593 - val_loss: 9.5787 - val_accuracy: 0.1351\n"
          ]
        }
      ]
    },
    {
      "cell_type": "code",
      "source": [
        "import matplotlib.pyplot as plt\n",
        "\n",
        "def plot_training_analysis():\n",
        "  acc = history.history['accuracy']\n",
        "  val_acc = history.history['val_accuracy']\n",
        "  loss = history.history['loss']\n",
        "  val_loss = history.history['val_loss']\n",
        "\n",
        "  epochs = range(len(acc))\n",
        "\n",
        "  plt.plot(epochs, acc, 'b', linestyle=\"--\",label='Training acc')\n",
        "  plt.plot(epochs, val_acc, 'g', label='Validation acc')\n",
        "  plt.title('Training and validation accuracy')\n",
        "  plt.legend()\n",
        "\n",
        "  plt.figure()\n",
        "\n",
        "  plt.plot(epochs, loss, 'b', linestyle=\"--\",label='Training loss')\n",
        "  plt.plot(epochs, val_loss,'g', label='Validation loss')\n",
        "  plt.title('Training and validation loss')\n",
        "  plt.legend()\n",
        "\n",
        "  plt.show()"
      ],
      "metadata": {
        "id": "v4k1QZ9mpsEX"
      },
      "execution_count": 15,
      "outputs": []
    },
    {
      "cell_type": "code",
      "source": [
        "plot_training_analysis()"
      ],
      "metadata": {
        "colab": {
          "base_uri": "https://localhost:8080/",
          "height": 545
        },
        "id": "pMHSJ_0ip07v",
        "outputId": "a091b527-b25c-4ae3-fc61-b0b08ac84894"
      },
      "execution_count": 35,
      "outputs": [
        {
          "output_type": "display_data",
          "data": {
            "text/plain": [
              "<Figure size 432x288 with 1 Axes>"
            ],
            "image/png": "[encoded data removed]"
          },
          "metadata": {
            "needs_background": "light"
          }
        },
        {
          "output_type": "display_data",
          "data": {
            "text/plain": [
              "<Figure size 432x288 with 1 Axes>"
            ],
            "image/png": "[encoded data removed]"
          },
          "metadata": {
            "needs_background": "light"
          }
        }
      ]
    },
    {
      "cell_type": "code",
      "source": [
        "from tensorflow.keras.preprocessing.image import ImageDataGenerator\n",
        "\n",
        "train_datagen = ImageDataGenerator(\n",
        "    rotation_range=40,\n",
        "    width_shift_range=0.2,\n",
        "    height_shift_range=0.2,\n",
        "    shear_range=0.2,\n",
        "    zoom_range=0.2,\n",
        "    horizontal_flip=True)\n"
      ],
      "metadata": {
        "id": "T5HZX22YqDU6"
      },
      "execution_count": 23,
      "outputs": []
    },
    {
      "cell_type": "code",
      "source": [
        "import tensorflow as tf\n",
        "from tensorflow.keras.models import Sequential\n",
        "from tensorflow.keras.layers import Conv2D, MaxPooling2D, Flatten, Dense\n",
        "\n",
        "model = Sequential()\n",
        "model.add(Conv2D(32, 3, activation=\"relu\"))\n",
        "model.add(MaxPooling2D())\n",
        "model.add(Conv2D(64, 3, activation=\"relu\"))\n",
        "model.add(MaxPooling2D())\n",
        "model.add(Conv2D(96, 3, activation=\"relu\"))\n",
        "model.add(MaxPooling2D())\n",
        "model.add(Conv2D(128, 3, activation=\"relu\"))\n",
        "model.add(MaxPooling2D())\n",
        "model.add(Flatten())\n",
        "model.add(Dense(512, activation=\"relu\"))\n",
        "model.add(Dense(len(CLASSES), activation=\"softmax\"))\n",
        "\n",
        "model.build((None, IMAGE_SIZE, IMAGE_SIZE, 3))\n",
        "model.summary()\n",
        "\n",
        "model.compile(loss=\"sparse_categorical_crossentropy\",\n",
        "              optimizer=tf.keras.optimizers.Adam(learning_rate=3e-4),\n",
        "              metrics=['accuracy'])"
      ],
      "metadata": {
        "colab": {
          "base_uri": "https://localhost:8080/"
        },
        "id": "teTQAvIKt_fH",
        "outputId": "fc9106bf-5f48-4571-df25-86558c5009f5"
      },
      "execution_count": 49,
      "outputs": [
        {
          "output_type": "stream",
          "name": "stdout",
          "text": [
            "Model: \"sequential_9\"\n",
            "_________________________________________________________________\n",
            " Layer (type)                Output Shape              Param #   \n",
            "=================================================================\n",
            " conv2d_36 (Conv2D)          (None, 126, 126, 32)      896       \n",
            "                                                                 \n",
            " max_pooling2d_36 (MaxPoolin  (None, 63, 63, 32)       0         \n",
            " g2D)                                                            \n",
            "                                                                 \n",
            " conv2d_37 (Conv2D)          (None, 61, 61, 64)        18496     \n",
            "                                                                 \n",
            " max_pooling2d_37 (MaxPoolin  (None, 30, 30, 64)       0         \n",
            " g2D)                                                            \n",
            "                                                                 \n",
            " conv2d_38 (Conv2D)          (None, 28, 28, 96)        55392     \n",
            "                                                                 \n",
            " max_pooling2d_38 (MaxPoolin  (None, 14, 14, 96)       0         \n",
            " g2D)                                                            \n",
            "                                                                 \n",
            " conv2d_39 (Conv2D)          (None, 12, 12, 128)       110720    \n",
            "                                                                 \n",
            " max_pooling2d_39 (MaxPoolin  (None, 6, 6, 128)        0         \n",
            " g2D)                                                            \n",
            "                                                                 \n",
            " flatten_9 (Flatten)         (None, 4608)              0         \n",
            "                                                                 \n",
            " dense_18 (Dense)            (None, 512)               2359808   \n",
            "                                                                 \n",
            " dense_19 (Dense)            (None, 3)                 1539      \n",
            "                                                                 \n",
            "=================================================================\n",
            "Total params: 2,546,851\n",
            "Trainable params: 2,546,851\n",
            "Non-trainable params: 0\n",
            "_________________________________________________________________\n"
          ]
        }
      ]
    },
    {
      "cell_type": "code",
      "source": [
        "history = model.fit(train_datagen.flow(x_training, y_training, batch_size=10), validation_data=(x_validation, y_validation), epochs=50)\n",
        "plot_training_analysis()"
      ],
      "metadata": {
        "colab": {
          "base_uri": "https://localhost:8080/",
          "height": 1000
        },
        "id": "hIilWRj7qhhv",
        "outputId": "9076ae51-ac46-4e43-c6b0-048efb46c2e9"
      },
      "execution_count": 50,
      "outputs": [
        {
          "output_type": "stream",
          "name": "stdout",
          "text": [
            "Epoch 1/50\n",
            "9/9 [==============================] - 4s 95ms/step - loss: 58.2235 - accuracy: 0.3333 - val_loss: 12.6071 - val_accuracy: 0.4833\n",
            "Epoch 2/50\n",
            "9/9 [==============================] - 0s 42ms/step - loss: 2.2465 - accuracy: 0.5556 - val_loss: 7.4180 - val_accuracy: 0.8500\n",
            "Epoch 3/50\n",
            "9/9 [==============================] - 0s 42ms/step - loss: 1.2149 - accuracy: 0.5444 - val_loss: 7.2461 - val_accuracy: 0.6833\n",
            "Epoch 4/50\n",
            "9/9 [==============================] - 0s 43ms/step - loss: 0.4644 - accuracy: 0.6667 - val_loss: 7.2952 - val_accuracy: 0.5667\n",
            "Epoch 5/50\n",
            "9/9 [==============================] - 0s 42ms/step - loss: 0.3034 - accuracy: 0.5111 - val_loss: 7.8355 - val_accuracy: 0.7167\n",
            "Epoch 6/50\n",
            "9/9 [==============================] - 0s 43ms/step - loss: 0.2170 - accuracy: 0.6000 - val_loss: 7.2613 - val_accuracy: 0.6000\n",
            "Epoch 7/50\n",
            "9/9 [==============================] - 0s 43ms/step - loss: 0.1577 - accuracy: 0.5778 - val_loss: 8.2795 - val_accuracy: 0.6167\n",
            "Epoch 8/50\n",
            "9/9 [==============================] - 0s 44ms/step - loss: 0.1116 - accuracy: 0.5556 - val_loss: 8.9556 - val_accuracy: 0.6333\n",
            "Epoch 9/50\n",
            "9/9 [==============================] - 0s 44ms/step - loss: 0.1685 - accuracy: 0.5667 - val_loss: 8.7933 - val_accuracy: 0.6333\n",
            "Epoch 10/50\n",
            "9/9 [==============================] - 0s 44ms/step - loss: 0.1679 - accuracy: 0.6111 - val_loss: 8.1583 - val_accuracy: 0.6167\n",
            "Epoch 11/50\n",
            "9/9 [==============================] - 0s 45ms/step - loss: 0.1626 - accuracy: 0.5111 - val_loss: 7.9891 - val_accuracy: 0.6500\n",
            "Epoch 12/50\n",
            "9/9 [==============================] - 0s 44ms/step - loss: 0.1541 - accuracy: 0.6111 - val_loss: 7.3965 - val_accuracy: 0.6167\n",
            "Epoch 13/50\n",
            "9/9 [==============================] - 0s 48ms/step - loss: 0.0819 - accuracy: 0.5333 - val_loss: 7.7896 - val_accuracy: 0.6500\n",
            "Epoch 14/50\n",
            "9/9 [==============================] - 0s 41ms/step - loss: 0.0800 - accuracy: 0.5556 - val_loss: 8.8779 - val_accuracy: 0.6500\n",
            "Epoch 15/50\n",
            "9/9 [==============================] - 0s 42ms/step - loss: 0.0873 - accuracy: 0.5778 - val_loss: 9.3241 - val_accuracy: 0.6333\n",
            "Epoch 16/50\n",
            "9/9 [==============================] - 0s 47ms/step - loss: 0.0650 - accuracy: 0.5778 - val_loss: 10.4417 - val_accuracy: 0.6333\n",
            "Epoch 17/50\n",
            "9/9 [==============================] - 0s 43ms/step - loss: 0.0320 - accuracy: 0.5667 - val_loss: 10.6749 - val_accuracy: 0.6333\n",
            "Epoch 18/50\n",
            "9/9 [==============================] - 0s 44ms/step - loss: 0.0403 - accuracy: 0.5667 - val_loss: 10.3188 - val_accuracy: 0.6000\n",
            "Epoch 19/50\n",
            "9/9 [==============================] - 0s 45ms/step - loss: 0.1387 - accuracy: 0.5444 - val_loss: 8.2350 - val_accuracy: 0.6833\n",
            "Epoch 20/50\n",
            "9/9 [==============================] - 0s 42ms/step - loss: 0.1052 - accuracy: 0.5222 - val_loss: 8.2163 - val_accuracy: 0.6833\n",
            "Epoch 21/50\n",
            "9/9 [==============================] - 0s 46ms/step - loss: 0.0703 - accuracy: 0.5889 - val_loss: 9.4268 - val_accuracy: 0.6333\n",
            "Epoch 22/50\n",
            "9/9 [==============================] - 0s 40ms/step - loss: 0.0293 - accuracy: 0.5444 - val_loss: 10.5258 - val_accuracy: 0.6500\n",
            "Epoch 23/50\n",
            "9/9 [==============================] - 0s 43ms/step - loss: 0.0935 - accuracy: 0.5667 - val_loss: 10.1945 - val_accuracy: 0.6500\n",
            "Epoch 24/50\n",
            "9/9 [==============================] - 1s 77ms/step - loss: 0.1132 - accuracy: 0.5667 - val_loss: 9.5396 - val_accuracy: 0.6667\n",
            "Epoch 25/50\n",
            "9/9 [==============================] - 1s 69ms/step - loss: 0.0314 - accuracy: 0.5444 - val_loss: 9.6086 - val_accuracy: 0.6833\n",
            "Epoch 26/50\n",
            "9/9 [==============================] - 0s 43ms/step - loss: 0.0601 - accuracy: 0.5889 - val_loss: 9.3922 - val_accuracy: 0.6333\n",
            "Epoch 27/50\n",
            "9/9 [==============================] - 0s 42ms/step - loss: 0.0974 - accuracy: 0.5778 - val_loss: 9.3015 - val_accuracy: 0.7167\n",
            "Epoch 28/50\n",
            "9/9 [==============================] - 0s 43ms/step - loss: 0.0393 - accuracy: 0.5556 - val_loss: 9.2903 - val_accuracy: 0.6500\n",
            "Epoch 29/50\n",
            "9/9 [==============================] - 0s 43ms/step - loss: 0.0084 - accuracy: 0.5556 - val_loss: 9.9056 - val_accuracy: 0.6667\n",
            "Epoch 30/50\n",
            "9/9 [==============================] - 0s 42ms/step - loss: 0.0310 - accuracy: 0.5667 - val_loss: 10.1902 - val_accuracy: 0.6667\n",
            "Epoch 31/50\n",
            "9/9 [==============================] - 0s 45ms/step - loss: 0.0046 - accuracy: 0.5556 - val_loss: 10.5487 - val_accuracy: 0.6500\n",
            "Epoch 32/50\n",
            "9/9 [==============================] - 0s 43ms/step - loss: 0.0330 - accuracy: 0.5444 - val_loss: 10.9311 - val_accuracy: 0.6500\n",
            "Epoch 33/50\n",
            "9/9 [==============================] - 0s 43ms/step - loss: 0.0349 - accuracy: 0.5667 - val_loss: 10.9343 - val_accuracy: 0.6833\n",
            "Epoch 34/50\n",
            "9/9 [==============================] - 0s 43ms/step - loss: 0.1400 - accuracy: 0.5333 - val_loss: 10.7261 - val_accuracy: 0.7000\n",
            "Epoch 35/50\n",
            "9/9 [==============================] - 0s 44ms/step - loss: 0.0813 - accuracy: 0.6000 - val_loss: 12.8516 - val_accuracy: 0.4833\n",
            "Epoch 36/50\n",
            "9/9 [==============================] - 0s 43ms/step - loss: 0.0447 - accuracy: 0.5333 - val_loss: 15.3387 - val_accuracy: 0.7167\n",
            "Epoch 37/50\n",
            "9/9 [==============================] - 0s 43ms/step - loss: 0.1353 - accuracy: 0.5667 - val_loss: 11.4340 - val_accuracy: 0.6333\n",
            "Epoch 38/50\n",
            "9/9 [==============================] - 0s 42ms/step - loss: 0.0389 - accuracy: 0.5444 - val_loss: 10.1271 - val_accuracy: 0.6500\n",
            "Epoch 39/50\n",
            "9/9 [==============================] - 0s 42ms/step - loss: 0.0177 - accuracy: 0.5556 - val_loss: 11.2821 - val_accuracy: 0.6333\n",
            "Epoch 40/50\n",
            "9/9 [==============================] - 0s 43ms/step - loss: 0.0134 - accuracy: 0.5556 - val_loss: 12.4837 - val_accuracy: 0.6333\n",
            "Epoch 41/50\n",
            "9/9 [==============================] - 0s 44ms/step - loss: 0.0057 - accuracy: 0.5556 - val_loss: 13.0459 - val_accuracy: 0.6500\n",
            "Epoch 42/50\n",
            "9/9 [==============================] - 0s 43ms/step - loss: 0.0025 - accuracy: 0.5556 - val_loss: 13.5226 - val_accuracy: 0.6500\n",
            "Epoch 43/50\n",
            "9/9 [==============================] - 0s 43ms/step - loss: 0.0154 - accuracy: 0.5667 - val_loss: 14.0710 - val_accuracy: 0.5833\n",
            "Epoch 44/50\n",
            "9/9 [==============================] - 0s 41ms/step - loss: 0.0074 - accuracy: 0.5556 - val_loss: 13.0477 - val_accuracy: 0.6333\n",
            "Epoch 45/50\n",
            "9/9 [==============================] - 0s 44ms/step - loss: 0.0098 - accuracy: 0.5556 - val_loss: 13.4144 - val_accuracy: 0.6167\n",
            "Epoch 46/50\n",
            "9/9 [==============================] - 0s 43ms/step - loss: 0.0041 - accuracy: 0.5556 - val_loss: 13.8054 - val_accuracy: 0.6167\n",
            "Epoch 47/50\n",
            "9/9 [==============================] - 0s 48ms/step - loss: 0.0021 - accuracy: 0.5556 - val_loss: 14.0779 - val_accuracy: 0.6333\n",
            "Epoch 48/50\n",
            "9/9 [==============================] - 0s 42ms/step - loss: 0.0183 - accuracy: 0.5667 - val_loss: 14.0981 - val_accuracy: 0.6333\n",
            "Epoch 49/50\n",
            "9/9 [==============================] - 1s 72ms/step - loss: 0.0055 - accuracy: 0.5556 - val_loss: 13.5850 - val_accuracy: 0.6333\n",
            "Epoch 50/50\n",
            "9/9 [==============================] - 1s 72ms/step - loss: 0.0045 - accuracy: 0.5556 - val_loss: 13.9421 - val_accuracy: 0.6333\n"
          ]
        },
        {
          "output_type": "display_data",
          "data": {
            "text/plain": [
              "<Figure size 432x288 with 1 Axes>"
            ],
            "image/png": "[encoded data removed]"
          },
          "metadata": {
            "needs_background": "light"
          }
        },
        {
          "output_type": "display_data",
          "data": {
            "text/plain": [
              "<Figure size 432x288 with 1 Axes>"
            ],
            "image/png": "[encoded data removed]"
          },
          "metadata": {
            "needs_background": "light"
          }
        }
      ]
    },
    {
      "cell_type": "code",
      "source": [
        "sortie = model(np.expand_dims(x_validation[0], 0))\n",
        "print(sortie)\n",
        "print(np.argmax(sortie))\n",
        "print(y_validation[0])"
      ],
      "metadata": {
        "colab": {
          "base_uri": "https://localhost:8080/"
        },
        "id": "BX7zvwwZvruz",
        "outputId": "07324768-8913-4f28-de4e-cd69630cbe5a"
      },
      "execution_count": 51,
      "outputs": [
        {
          "output_type": "stream",
          "name": "stdout",
          "text": [
            "tf.Tensor([[1.0600694e-15 1.0000000e+00 3.2508043e-21]], shape=(1, 3), dtype=float32)\n",
            "1\n",
            "[1.]\n"
          ]
        }
      ]
    }
  ]
}